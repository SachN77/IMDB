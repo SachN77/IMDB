{
 "cells": [
  {
   "cell_type": "code",
   "execution_count": 1,
   "id": "f82c2ab8",
   "metadata": {},
   "outputs": [],
   "source": [
    "import numpy as np\n",
    "#np.load.__defaults__=(None, True, True, 'ASCII')\n",
    "np_load_old = np.load\n",
    "np.load = lambda *a,**k: np_load_old(*a,allow_pickle=True)\n",
    "from keras.datasets import imdb\n",
    "(x_train, y_train), (x_test, y_test) = imdb.load_data(path=\"imdb.npz\", maxlen=130, num_words=6000)\n",
    "#np.load.__defaults__=(None, False, True, 'ASCII')\n",
    "np.load = np_load_old\n"
   ]
  },
  {
   "cell_type": "code",
   "execution_count": 2,
   "id": "8868baf4",
   "metadata": {},
   "outputs": [],
   "source": [
    "from keras.utils import pad_sequences\n",
    "x_train = pad_sequences(x_train, maxlen=130)"
   ]
  },
  {
   "cell_type": "code",
   "execution_count": 3,
   "id": "aca170d9",
   "metadata": {},
   "outputs": [],
   "source": [
    "np.load = np_load_old"
   ]
  },
  {
   "cell_type": "code",
   "execution_count": 4,
   "id": "465d29bb",
   "metadata": {},
   "outputs": [],
   "source": [
    "from keras.models import Sequential\n",
    "model = Sequential()"
   ]
  },
  {
   "cell_type": "code",
   "execution_count": 5,
   "id": "dec46bbb",
   "metadata": {},
   "outputs": [],
   "source": [
    "from keras.layers import Embedding\n",
    "model.add(Embedding(6000, 128, input_length=130))"
   ]
  },
  {
   "cell_type": "code",
   "execution_count": 6,
   "id": "b1c92904",
   "metadata": {},
   "outputs": [],
   "source": [
    "from keras.layers import LSTM\n",
    "model.add(LSTM(32))"
   ]
  },
  {
   "cell_type": "code",
   "execution_count": 7,
   "id": "0a466cc8",
   "metadata": {},
   "outputs": [],
   "source": [
    "from keras.layers import Dense\n",
    "model.add(Dense(units=20, activation='relu'))"
   ]
  },
  {
   "cell_type": "code",
   "execution_count": 8,
   "id": "ab1b68af",
   "metadata": {},
   "outputs": [],
   "source": [
    "from keras.layers import Dropout\n",
    "model.add(Dropout(0.05))"
   ]
  },
  {
   "cell_type": "code",
   "execution_count": 9,
   "id": "df8e66da",
   "metadata": {},
   "outputs": [],
   "source": [
    "from keras.layers import Dense\n",
    "model.add(Dense(units=1, activation='sigmoid'))"
   ]
  },
  {
   "cell_type": "code",
   "execution_count": 10,
   "id": "a42c1475",
   "metadata": {},
   "outputs": [],
   "source": [
    "model.compile(optimizer='adam', loss='binary_crossentropy', metrics=['accuracy'])"
   ]
  },
  {
   "cell_type": "code",
   "execution_count": 11,
   "id": "f681e39f",
   "metadata": {},
   "outputs": [
    {
     "name": "stdout",
     "output_type": "stream",
     "text": [
      "Epoch 1/5\n",
      "62/62 [==============================] - 6s 67ms/step - loss: 0.6185 - accuracy: 0.6455\n",
      "Epoch 2/5\n",
      "62/62 [==============================] - 4s 69ms/step - loss: 0.3393 - accuracy: 0.8822\n",
      "Epoch 3/5\n",
      "62/62 [==============================] - 4s 68ms/step - loss: 0.1809 - accuracy: 0.9400\n",
      "Epoch 4/5\n",
      "62/62 [==============================] - 4s 71ms/step - loss: 0.1113 - accuracy: 0.9627\n",
      "Epoch 5/5\n",
      "62/62 [==============================] - 4s 68ms/step - loss: 0.0672 - accuracy: 0.9802\n"
     ]
    },
    {
     "data": {
      "text/plain": [
       "<keras.callbacks.History at 0x1741deeb3d0>"
      ]
     },
     "execution_count": 11,
     "metadata": {},
     "output_type": "execute_result"
    }
   ],
   "source": [
    "model.fit(x_train, y_train, epochs=5, batch_size=100)"
   ]
  }
 ],
 "metadata": {
  "kernelspec": {
   "display_name": "Python 3 (ipykernel)",
   "language": "python",
   "name": "python3"
  },
  "language_info": {
   "codemirror_mode": {
    "name": "ipython",
    "version": 3
   },
   "file_extension": ".py",
   "mimetype": "text/x-python",
   "name": "python",
   "nbconvert_exporter": "python",
   "pygments_lexer": "ipython3",
   "version": "3.9.12"
  }
 },
 "nbformat": 4,
 "nbformat_minor": 5
}
